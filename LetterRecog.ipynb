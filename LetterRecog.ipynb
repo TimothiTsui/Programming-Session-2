{
 "cells": [
  {
   "attachments": {},
   "cell_type": "markdown",
   "metadata": {},
   "source": [
    "# 1. Import the libraries"
   ]
  },
  {
   "cell_type": "code",
   "execution_count": 1,
   "metadata": {},
   "outputs": [],
   "source": [
    "import numpy as np\n",
    "import pandas as pd\n",
    "from sklearn.model_selection import train_test_split\n",
    "import matplotlib.pyplot as plt\n",
    "from sklearn.preprocessing import LabelEncoder"
   ]
  },
  {
   "attachments": {},
   "cell_type": "markdown",
   "metadata": {},
   "source": [
    "# 2. Load the Letter Recognition data.\n",
    "## Pull data online and rename the columns."
   ]
  },
  {
   "cell_type": "code",
   "execution_count": 2,
   "metadata": {},
   "outputs": [],
   "source": [
    "raw_data = pd.read_csv('https://archive.ics.uci.edu/ml/machine-learning-databases/letter-recognition/letter-recognition.data',header=None, sep = ',')\n",
    "features = ['lettr', 'x-box', 'y-box', 'width', 'high', 'onpix', 'x-bar', 'y-bar', 'x2bar', 'y2bar', 'xybar', 'x2ybr', 'xy2br', 'x-ege', 'xegvy', 'y-ege', 'yegvx']\n",
    "raw_data.columns = features"
   ]
  },
  {
   "attachments": {},
   "cell_type": "markdown",
   "metadata": {},
   "source": [
    "# 3. Find the pairs and make them a new data set.\n",
    "## 3.1 Pair 1: H and K; "
   ]
  },
  {
   "cell_type": "code",
   "execution_count": 3,
   "metadata": {},
   "outputs": [
    {
     "name": "stderr",
     "output_type": "stream",
     "text": [
      "/var/folders/2z/xx_s870x0kd3j9xrkh_8bg900000gn/T/ipykernel_88611/764930586.py:6: SettingWithCopyWarning: \n",
      "A value is trying to be set on a copy of a slice from a DataFrame.\n",
      "Try using .loc[row_indexer,col_indexer] = value instead\n",
      "\n",
      "See the caveats in the documentation: https://pandas.pydata.org/pandas-docs/stable/user_guide/indexing.html#returning-a-view-versus-a-copy\n",
      "  HK['lettr'] = le.transform(HK['lettr'])\n"
     ]
    }
   ],
   "source": [
    "HK = raw_data[raw_data['lettr'].isin(['H', 'K'])]\n",
    "le = LabelEncoder()\n",
    "le.fit(HK['lettr'])\n",
    "\n",
    "# Transform the target column using the LabelEncoder\n",
    "HK['lettr'] = le.transform(HK['lettr'])\n",
    "HK = HK.reset_index(drop=True)\n",
    "HK_X_train, HK_X_test, HK_y_train, HK_y_test = train_test_split(HK.drop('lettr', axis=1), HK['lettr'], test_size=0.1, random_state=514)\n",
    "# Reset index of HK_X_train\n",
    "HK_X_train = HK_X_train.reset_index(drop=True)\n",
    "\n",
    "# Reset index of HK_X_test\n",
    "HK_X_test = HK_X_test.reset_index(drop=True)\n",
    "\n",
    "# Reset index of HK_y_train\n",
    "HK_y_train = HK_y_train.reset_index(drop=True)\n",
    "\n",
    "# Reset index of HK_y_test\n",
    "HK_y_test = HK_y_test.reset_index(drop=True)\n",
    "\n"
   ]
  },
  {
   "attachments": {},
   "cell_type": "markdown",
   "metadata": {},
   "source": [
    "## 3.2 Pair 2: M and Y;"
   ]
  },
  {
   "cell_type": "code",
   "execution_count": 4,
   "metadata": {},
   "outputs": [],
   "source": [
    "MY = raw_data[raw_data['lettr'].isin(['M', 'Y'])]\n",
    "MY = MY.reset_index(drop=True)\n",
    "MY_X_train, MY_X_test, MY_y_train, MY_y_test = train_test_split(MY.drop('lettr', axis=1), MY['lettr'], test_size=0.1, random_state=514)"
   ]
  },
  {
   "attachments": {},
   "cell_type": "markdown",
   "metadata": {},
   "source": [
    "## 3.3 Pair 3: X and T;"
   ]
  },
  {
   "cell_type": "code",
   "execution_count": 83,
   "metadata": {},
   "outputs": [],
   "source": [
    "XT = raw_data[raw_data['lettr'].isin(['X','T'])]\n",
    "XT = XT.reset_index(drop=True)\n",
    "XT_X_train, XT_X_test, XT_y_train, XT_y_test = train_test_split(XT.drop('lettr', axis=1), XT['lettr'], test_size=0.1, random_state=514)"
   ]
  },
  {
   "attachments": {},
   "cell_type": "markdown",
   "metadata": {},
   "source": [
    "# 4. Model Fitting"
   ]
  },
  {
   "attachments": {},
   "cell_type": "markdown",
   "metadata": {},
   "source": [
    "## 4.1 K-nearest neighbors"
   ]
  },
  {
   "attachments": {},
   "cell_type": "markdown",
   "metadata": {},
   "source": [
    "### 4.1.1 Preparation"
   ]
  },
  {
   "cell_type": "code",
   "execution_count": 84,
   "metadata": {},
   "outputs": [
    {
     "name": "stdout",
     "output_type": "stream",
     "text": [
      "测试集预测准确率：0.952703\n"
     ]
    }
   ],
   "source": [
    "class KNearestNeighbor:\n",
    "\n",
    "    def __init__(self, k=3):\n",
    "        self.n_neighbors = k\n",
    "\n",
    "    def train(self, X, y):\n",
    "        self.X_train = X\n",
    "        self.y_train = y\n",
    "\n",
    "    def euclidean_distance(self, row1, row2):\n",
    "        return np.sqrt(np.sum((row1 - row2)**2))\n",
    "\n",
    "    def predict(self, X_test):\n",
    "        y_pred = []\n",
    "        \n",
    "        for i in range(len(X_test)):\n",
    "            distances = []\n",
    "            \n",
    "            for j in range(len(self.X_train)):\n",
    "                dist = self.euclidean_distance(X_test.iloc[i, :], self.X_train.iloc[j, :])\n",
    "                \n",
    "                distances.append((j, dist))\n",
    "            \n",
    "            sorted_distances = sorted(distances, key=lambda x: x[1])\n",
    "            k_nearest_neighbors = [self.y_train[x[0]] for x in sorted_distances[:self.n_neighbors]]\n",
    "            most_common_label = max(set(k_nearest_neighbors), key=k_nearest_neighbors.count)\n",
    "            y_pred.append(most_common_label)\n",
    "            \n",
    "        return y_pred\n",
    "            \n",
    "KNN = KNearestNeighbor(k=8)\n",
    "KNN.train(HK_X_train.reset_index(drop=True), HK_y_train.reset_index(drop=True))\n",
    "HK_y_pred = KNN.predict(HK_X_test)\n",
    "acc = np.mean(HK_y_pred == HK_y_test)\n",
    "print('测试集预测准确率：%f' % acc)"
   ]
  },
  {
   "attachments": {},
   "cell_type": "markdown",
   "metadata": {},
   "source": [
    "### 4.1.2 Hyper parameter Tuning\n",
    "Here I decided to make k the hyper-parameter that I am going to tune."
   ]
  },
  {
   "cell_type": "code",
   "execution_count": 86,
   "metadata": {},
   "outputs": [
    {
     "ename": "KeyboardInterrupt",
     "evalue": "",
     "output_type": "error",
     "traceback": [
      "\u001b[0;31m---------------------------------------------------------------------------\u001b[0m",
      "\u001b[0;31mKeyboardInterrupt\u001b[0m                         Traceback (most recent call last)",
      "Cell \u001b[0;32mIn[86], line 37\u001b[0m\n\u001b[1;32m     34\u001b[0m knn\u001b[39m.\u001b[39mtrain(training_features\u001b[39m.\u001b[39mreset_index(drop\u001b[39m=\u001b[39m\u001b[39mTrue\u001b[39;00m), training_labels\u001b[39m.\u001b[39mreset_index(drop\u001b[39m=\u001b[39m\u001b[39mTrue\u001b[39;00m))\n\u001b[1;32m     36\u001b[0m \u001b[39m# Evaluate the model on the validation set and record the score\u001b[39;00m\n\u001b[0;32m---> 37\u001b[0m y_pred \u001b[39m=\u001b[39m knn\u001b[39m.\u001b[39;49mpredict(validation_features)\n\u001b[1;32m     38\u001b[0m score \u001b[39m=\u001b[39m np\u001b[39m.\u001b[39mmean(y_pred \u001b[39m==\u001b[39m validation_labels)\n\u001b[1;32m     39\u001b[0m scores\u001b[39m.\u001b[39mappend(score)\n",
      "Cell \u001b[0;32mIn[84], line 20\u001b[0m, in \u001b[0;36mKNearestNeighbor.predict\u001b[0;34m(self, X_test)\u001b[0m\n\u001b[1;32m     17\u001b[0m distances \u001b[39m=\u001b[39m []\n\u001b[1;32m     19\u001b[0m \u001b[39mfor\u001b[39;00m j \u001b[39min\u001b[39;00m \u001b[39mrange\u001b[39m(\u001b[39mlen\u001b[39m(\u001b[39mself\u001b[39m\u001b[39m.\u001b[39mX_train)):\n\u001b[0;32m---> 20\u001b[0m     dist \u001b[39m=\u001b[39m \u001b[39mself\u001b[39;49m\u001b[39m.\u001b[39;49meuclidean_distance(X_test\u001b[39m.\u001b[39;49miloc[i, :], \u001b[39mself\u001b[39;49m\u001b[39m.\u001b[39;49mX_train\u001b[39m.\u001b[39;49miloc[j, :])\n\u001b[1;32m     22\u001b[0m     distances\u001b[39m.\u001b[39mappend((j, dist))\n\u001b[1;32m     24\u001b[0m sorted_distances \u001b[39m=\u001b[39m \u001b[39msorted\u001b[39m(distances, key\u001b[39m=\u001b[39m\u001b[39mlambda\u001b[39;00m x: x[\u001b[39m1\u001b[39m])\n",
      "Cell \u001b[0;32mIn[84], line 11\u001b[0m, in \u001b[0;36mKNearestNeighbor.euclidean_distance\u001b[0;34m(self, row1, row2)\u001b[0m\n\u001b[1;32m     10\u001b[0m \u001b[39mdef\u001b[39;00m \u001b[39meuclidean_distance\u001b[39m(\u001b[39mself\u001b[39m, row1, row2):\n\u001b[0;32m---> 11\u001b[0m     \u001b[39mreturn\u001b[39;00m np\u001b[39m.\u001b[39msqrt(np\u001b[39m.\u001b[39msum((row1 \u001b[39m-\u001b[39;49m row2)\u001b[39m*\u001b[39;49m\u001b[39m*\u001b[39;49m\u001b[39m2\u001b[39;49m))\n",
      "File \u001b[0;32m~/opt/anaconda3/envs/DM/lib/python3.9/site-packages/pandas/core/ops/common.py:72\u001b[0m, in \u001b[0;36m_unpack_zerodim_and_defer.<locals>.new_method\u001b[0;34m(self, other)\u001b[0m\n\u001b[1;32m     68\u001b[0m             \u001b[39mreturn\u001b[39;00m \u001b[39mNotImplemented\u001b[39m\n\u001b[1;32m     70\u001b[0m other \u001b[39m=\u001b[39m item_from_zerodim(other)\n\u001b[0;32m---> 72\u001b[0m \u001b[39mreturn\u001b[39;00m method(\u001b[39mself\u001b[39;49m, other)\n",
      "File \u001b[0;32m~/opt/anaconda3/envs/DM/lib/python3.9/site-packages/pandas/core/arraylike.py:158\u001b[0m, in \u001b[0;36mOpsMixin.__pow__\u001b[0;34m(self, other)\u001b[0m\n\u001b[1;32m    156\u001b[0m \u001b[39m@unpack_zerodim_and_defer\u001b[39m(\u001b[39m\"\u001b[39m\u001b[39m__pow__\u001b[39m\u001b[39m\"\u001b[39m)\n\u001b[1;32m    157\u001b[0m \u001b[39mdef\u001b[39;00m \u001b[39m__pow__\u001b[39m(\u001b[39mself\u001b[39m, other):\n\u001b[0;32m--> 158\u001b[0m     \u001b[39mreturn\u001b[39;00m \u001b[39mself\u001b[39;49m\u001b[39m.\u001b[39;49m_arith_method(other, operator\u001b[39m.\u001b[39;49mpow)\n",
      "File \u001b[0;32m~/opt/anaconda3/envs/DM/lib/python3.9/site-packages/pandas/core/series.py:6259\u001b[0m, in \u001b[0;36mSeries._arith_method\u001b[0;34m(self, other, op)\u001b[0m\n\u001b[1;32m   6257\u001b[0m \u001b[39mdef\u001b[39;00m \u001b[39m_arith_method\u001b[39m(\u001b[39mself\u001b[39m, other, op):\n\u001b[1;32m   6258\u001b[0m     \u001b[39mself\u001b[39m, other \u001b[39m=\u001b[39m ops\u001b[39m.\u001b[39malign_method_SERIES(\u001b[39mself\u001b[39m, other)\n\u001b[0;32m-> 6259\u001b[0m     \u001b[39mreturn\u001b[39;00m base\u001b[39m.\u001b[39;49mIndexOpsMixin\u001b[39m.\u001b[39;49m_arith_method(\u001b[39mself\u001b[39;49m, other, op)\n",
      "File \u001b[0;32m~/opt/anaconda3/envs/DM/lib/python3.9/site-packages/pandas/core/base.py:1325\u001b[0m, in \u001b[0;36mIndexOpsMixin._arith_method\u001b[0;34m(self, other, op)\u001b[0m\n\u001b[1;32m   1322\u001b[0m rvalues \u001b[39m=\u001b[39m ensure_wrapped_if_datetimelike(rvalues)\n\u001b[1;32m   1324\u001b[0m \u001b[39mwith\u001b[39;00m np\u001b[39m.\u001b[39merrstate(\u001b[39mall\u001b[39m\u001b[39m=\u001b[39m\u001b[39m\"\u001b[39m\u001b[39mignore\u001b[39m\u001b[39m\"\u001b[39m):\n\u001b[0;32m-> 1325\u001b[0m     result \u001b[39m=\u001b[39m ops\u001b[39m.\u001b[39;49marithmetic_op(lvalues, rvalues, op)\n\u001b[1;32m   1327\u001b[0m \u001b[39mreturn\u001b[39;00m \u001b[39mself\u001b[39m\u001b[39m.\u001b[39m_construct_result(result, name\u001b[39m=\u001b[39mres_name)\n",
      "File \u001b[0;32m~/opt/anaconda3/envs/DM/lib/python3.9/site-packages/pandas/core/ops/array_ops.py:222\u001b[0m, in \u001b[0;36marithmetic_op\u001b[0;34m(left, right, op)\u001b[0m\n\u001b[1;32m    218\u001b[0m     res_values \u001b[39m=\u001b[39m op(left, right)\n\u001b[1;32m    219\u001b[0m \u001b[39melse\u001b[39;00m:\n\u001b[1;32m    220\u001b[0m     \u001b[39m# TODO we should handle EAs consistently and move this check before the if/else\u001b[39;00m\n\u001b[1;32m    221\u001b[0m     \u001b[39m# (https://github.com/pandas-dev/pandas/issues/41165)\u001b[39;00m\n\u001b[0;32m--> 222\u001b[0m     _bool_arith_check(op, left, right)\n\u001b[1;32m    224\u001b[0m     \u001b[39m# error: Argument 1 to \"_na_arithmetic_op\" has incompatible type\u001b[39;00m\n\u001b[1;32m    225\u001b[0m     \u001b[39m# \"Union[ExtensionArray, ndarray[Any, Any]]\"; expected \"ndarray[Any, Any]\"\u001b[39;00m\n\u001b[1;32m    226\u001b[0m     res_values \u001b[39m=\u001b[39m _na_arithmetic_op(left, right, op)  \u001b[39m# type: ignore[arg-type]\u001b[39;00m\n",
      "File \u001b[0;32m~/opt/anaconda3/envs/DM/lib/python3.9/site-packages/pandas/core/ops/array_ops.py:520\u001b[0m, in \u001b[0;36m_bool_arith_check\u001b[0;34m(op, a, b)\u001b[0m\n\u001b[1;32m    515\u001b[0m \u001b[39m\u001b[39m\u001b[39m\"\"\"\u001b[39;00m\n\u001b[1;32m    516\u001b[0m \u001b[39mIn contrast to numpy, pandas raises an error for certain operations\u001b[39;00m\n\u001b[1;32m    517\u001b[0m \u001b[39mwith booleans.\u001b[39;00m\n\u001b[1;32m    518\u001b[0m \u001b[39m\"\"\"\u001b[39;00m\n\u001b[1;32m    519\u001b[0m \u001b[39mif\u001b[39;00m op \u001b[39min\u001b[39;00m _BOOL_OP_NOT_ALLOWED:\n\u001b[0;32m--> 520\u001b[0m     \u001b[39mif\u001b[39;00m is_bool_dtype(a\u001b[39m.\u001b[39;49mdtype) \u001b[39mand\u001b[39;00m (\n\u001b[1;32m    521\u001b[0m         is_bool_dtype(b) \u001b[39mor\u001b[39;00m \u001b[39misinstance\u001b[39m(b, (\u001b[39mbool\u001b[39m, np\u001b[39m.\u001b[39mbool_))\n\u001b[1;32m    522\u001b[0m     ):\n\u001b[1;32m    523\u001b[0m         op_name \u001b[39m=\u001b[39m op\u001b[39m.\u001b[39m\u001b[39m__name__\u001b[39m\u001b[39m.\u001b[39mstrip(\u001b[39m\"\u001b[39m\u001b[39m_\u001b[39m\u001b[39m\"\u001b[39m)\u001b[39m.\u001b[39mlstrip(\u001b[39m\"\u001b[39m\u001b[39mr\u001b[39m\u001b[39m\"\u001b[39m)\n\u001b[1;32m    524\u001b[0m         \u001b[39mraise\u001b[39;00m \u001b[39mNotImplementedError\u001b[39;00m(\n\u001b[1;32m    525\u001b[0m             \u001b[39mf\u001b[39m\u001b[39m\"\u001b[39m\u001b[39moperator \u001b[39m\u001b[39m'\u001b[39m\u001b[39m{\u001b[39;00mop_name\u001b[39m}\u001b[39;00m\u001b[39m'\u001b[39m\u001b[39m not implemented for bool dtypes\u001b[39m\u001b[39m\"\u001b[39m\n\u001b[1;32m    526\u001b[0m         )\n",
      "File \u001b[0;32m~/opt/anaconda3/envs/DM/lib/python3.9/site-packages/pandas/core/dtypes/common.py:1321\u001b[0m, in \u001b[0;36mis_bool_dtype\u001b[0;34m(arr_or_dtype)\u001b[0m\n\u001b[1;32m   1319\u001b[0m     \u001b[39mreturn\u001b[39;00m \u001b[39mFalse\u001b[39;00m\n\u001b[1;32m   1320\u001b[0m \u001b[39mtry\u001b[39;00m:\n\u001b[0;32m-> 1321\u001b[0m     dtype \u001b[39m=\u001b[39m get_dtype(arr_or_dtype)\n\u001b[1;32m   1322\u001b[0m \u001b[39mexcept\u001b[39;00m (\u001b[39mTypeError\u001b[39;00m, \u001b[39mValueError\u001b[39;00m):\n\u001b[1;32m   1323\u001b[0m     \u001b[39mreturn\u001b[39;00m \u001b[39mFalse\u001b[39;00m\n",
      "\u001b[0;31mKeyboardInterrupt\u001b[0m: "
     ]
    }
   ],
   "source": [
    "import numpy as np\n",
    "\n",
    "# Define the range of parameters to tune\n",
    "k_values = [3, 5, 8, 10]\n",
    "\n",
    "# Define the number of folds for k-fold cross-validation\n",
    "k = 5\n",
    "\n",
    "# Shuffle the data\n",
    "indices = np.random.permutation(len(HK_X_train))\n",
    "\n",
    "# Divide the data into k-folds\n",
    "fold_size = len(HK_X_train) // k\n",
    "folds = [(i * fold_size, (i + 1) * fold_size) for i in range(k)]\n",
    "folds[-1] = (folds[-1][0], len(HK_X_train))\n",
    "\n",
    "# Perform hyperparameter tuning for each fold\n",
    "scores = []\n",
    "for i in range(k):\n",
    "    # Split the data into training and validation sets\n",
    "    validation_indices = list(range(folds[i][0], folds[i][1]))\n",
    "    training_indices = list(set(indices) - set(validation_indices))\n",
    "    training_features = HK_X_train.iloc[training_indices]\n",
    "    training_labels = HK_y_train.iloc[training_indices]\n",
    "    validation_features = HK_X_train.iloc[validation_indices]\n",
    "    validation_labels = HK_y_train.iloc[validation_indices]\n",
    "    \n",
    "    # Train and evaluate the model for each k value\n",
    "    for k_val in k_values:\n",
    "        # Create a KNearestNeighbor model\n",
    "        knn = KNearestNeighbor(k=k_val)\n",
    "        \n",
    "        # Train the model on the training set\n",
    "        knn.train(training_features.reset_index(drop=True), training_labels.reset_index(drop=True))\n",
    "        \n",
    "        # Evaluate the model on the validation set and record the score\n",
    "        y_pred = knn.predict(validation_features)\n",
    "        score = np.mean(y_pred == validation_labels)\n",
    "        scores.append(score)\n",
    "\n",
    "# Compute the average score across all folds for each k value\n",
    "avg_scores = []\n",
    "for i in range(len(k_values)):\n",
    "    k_scores = scores[i::len(k_values)]\n",
    "    avg_score = np.mean(k_scores)\n",
    "    avg_scores.append(avg_score)\n",
    "\n",
    "# Find the best k value and train the final model on the entire training set\n",
    "best_k = k_values[np.argmax(avg_scores)]\n",
    "final_knn = KNearestNeighbor(k=best_k)\n",
    "final_knn.train(HK_X_train, HK_y_train)\n",
    "\n",
    "# Evaluate the final model on the test set\n",
    "y_pred = final_knn.predict(HK_X_test)\n",
    "acc = np.mean(y_pred == HK_y_test)\n",
    "print('测试集预测准确率：%f' % acc)\n"
   ]
  },
  {
   "attachments": {},
   "cell_type": "markdown",
   "metadata": {},
   "source": [
    "## 4.2 SVM"
   ]
  },
  {
   "cell_type": "code",
   "execution_count": 155,
   "metadata": {},
   "outputs": [],
   "source": [
    "class SVM:\n",
    "    \n",
    "    def __init__(self, learning_rate=0.01, kernel='linear', gamma=1, degree=3, C=1, bias=True, num_epochs=1000, regularization_param=0.01):\n",
    "        self.lr = learning_rate\n",
    "        self.kernel = kernel\n",
    "        self.gamma = gamma\n",
    "        self.degree = degree\n",
    "        self.C = C\n",
    "        self.bias = bias\n",
    "        self.reg = regularization_param\n",
    "        self.num_epochs = num_epochs\n",
    "        \n",
    "    def fit(self, X, y):\n",
    "        n, m = X.shape\n",
    "        y = y.values.reshape(-1, 1) * 2 - 1  # Convert labels to -1 or 1\n",
    "        self.X_train = X\n",
    "        \n",
    "        if self.kernel == 'linear':\n",
    "            K = np.dot(X, X.T)\n",
    "        elif self.kernel == 'poly':\n",
    "            K = (self.gamma * np.dot(X, X.T) + 1) ** self.degree\n",
    "        elif self.kernel == 'rbf':\n",
    "            n = X.shape[0]\n",
    "            X_norms = np.sum(X.values ** 2, axis=1).reshape((n, 1))\n",
    "            X_norms_squared = np.tile(X_norms, (1, n))\n",
    "            distance_squared = X_norms_squared + X_norms_squared.T - 2 * np.dot(X, X.T)\n",
    "            K = np.exp(-self.gamma * distance_squared)\n",
    "\n",
    "        self.w = np.zeros((n, 1))\n",
    "        if self.bias:\n",
    "            self.b = 0\n",
    "        else:\n",
    "            self.b = None\n",
    "        \n",
    "        for epoch in range(self.num_epochs):\n",
    "            y_pred = np.dot(K, self.w) + self.b if self.bias else np.dot(K, self.w)\n",
    "            loss = np.maximum(0, 1 - y_pred * y).mean() + 0.5 * self.reg * np.sum(self.w ** 2)\n",
    "            grad_w = np.dot(K.T, -y * (y_pred <= 1)) / n + self.reg * self.w\n",
    "\n",
    "            self.w = self.w.reshape(-1, 1)\n",
    "            grad_w = grad_w.reshape(-1, 1)\n",
    "            self.w -= self.lr * grad_w\n",
    "            \n",
    "            if self.bias:\n",
    "                grad_b = -np.mean(y * (y_pred <= 1))\n",
    "                self.b -= self.lr * grad_b\n",
    "\n",
    "    def predict(self, X):\n",
    "        if self.kernel == 'linear':\n",
    "            K = np.dot(X, self.w)\n",
    "        elif self.kernel == 'poly':\n",
    "            K = (self.gamma * np.dot(X, X.T) + 1) ** self.degree\n",
    "        elif self.kernel == 'rbf':\n",
    "            print(X.shape)\n",
    "            X_arr = X.values\n",
    "            K = np.exp(-self.gamma * np.sum((X_arr[:, np.newaxis, :] - self.X_train.values) ** 2, axis=2))\n",
    "\n",
    "        if self.bias:\n",
    "            return np.sign(np.dot(K, self.w) + self.b).flatten()\n",
    "        else:\n",
    "            return np.sign(np.dot(K, self.w)).flatten()\n",
    "\n"
   ]
  },
  {
   "cell_type": "code",
   "execution_count": 156,
   "metadata": {},
   "outputs": [
    {
     "name": "stdout",
     "output_type": "stream",
     "text": [
      "(148, 16)\n",
      "测试集预测准确率：0.729730\n"
     ]
    }
   ],
   "source": [
    "svm = SVM(kernel='rbf', gamma=0.5)\n",
    "svm.fit(HK_X_train.reset_index(drop=True), HK_y_train.reset_index(drop=True))\n",
    "HK_X_test=HK_X_test.reset_index(drop=True)\n",
    "HK_y_pred = svm.predict(HK_X_test)\n",
    "\n",
    "HK_y_pred = np.where(HK_y_pred == -1, 0, HK_y_pred)\n",
    "\n",
    "acc = np.mean(HK_y_pred == (HK_y_test.reset_index(drop=True)))\n",
    "print('测试集预测准确率：%f' % acc)"
   ]
  },
  {
   "cell_type": "code",
   "execution_count": 157,
   "metadata": {},
   "outputs": [
    {
     "name": "stdout",
     "output_type": "stream",
     "text": [
      "(148, 16)\n",
      "(148, 16)\n",
      "(148, 16)\n",
      "(148, 16)\n",
      "(148, 16)\n",
      "(148, 16)\n"
     ]
    },
    {
     "data": {
      "image/png": "[encoded data removed]",
      "text/plain": [
       "<Figure size 640x480 with 1 Axes>"
      ]
     },
     "metadata": {},
     "output_type": "display_data"
    }
   ],
   "source": [
    "import matplotlib.pyplot as plt\n",
    "\n",
    "gammas = [0.001, 0.01, 0.1, 1, 10, 100]\n",
    "accs = []\n",
    "for g in gammas:\n",
    "    svm = SVM(kernel='rbf', gamma=g)\n",
    "    svm.fit(HK_X_train.reset_index(drop=True), HK_y_train.reset_index(drop=True))\n",
    "    HK_y_pred = svm.predict(HK_X_test.reset_index(drop=True))\n",
    "    HK_y_pred = np.where(HK_y_pred == -1, 0, HK_y_pred)\n",
    "    acc = np.mean(HK_y_pred == (HK_y_test.reset_index(drop=True)))\n",
    "    accs.append(acc)\n",
    "\n",
    "plt.plot(gammas, accs, '-o')\n",
    "plt.xscale('log')\n",
    "plt.xlabel('Gamma')\n",
    "plt.ylabel('Accuracy')\n",
    "plt.title('Accuracy vs. Gamma for SVM with RBF Kernel')\n",
    "plt.show()\n"
   ]
  }
 ],
 "metadata": {
  "kernelspec": {
   "display_name": "DM",
   "language": "python",
   "name": "python3"
  },
  "language_info": {
   "codemirror_mode": {
    "name": "ipython",
    "version": 3
   },
   "file_extension": ".py",
   "mimetype": "text/x-python",
   "name": "python",
   "nbconvert_exporter": "python",
   "pygments_lexer": "ipython3",
   "version": "3.9.16"
  },
  "orig_nbformat": 4
 },
 "nbformat": 4,
 "nbformat_minor": 2
}
